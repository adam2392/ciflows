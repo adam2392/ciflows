{
 "cells": [
  {
   "cell_type": "markdown",
   "metadata": {},
   "source": [
    "# Analysis of injective flow results"
   ]
  },
  {
   "cell_type": "code",
   "execution_count": 2,
   "metadata": {},
   "outputs": [],
   "source": [
    "%load_ext autoreload\n",
    "%autoreload 2"
   ]
  },
  {
   "cell_type": "code",
   "execution_count": 3,
   "metadata": {},
   "outputs": [
    {
     "name": "stderr",
     "output_type": "stream",
     "text": [
      "/Users/adam2392/miniforge3/envs/ciflows/lib/python3.11/site-packages/tqdm/auto.py:21: TqdmWarning: IProgress not found. Please update jupyter and ipywidgets. See https://ipywidgets.readthedocs.io/en/stable/user_install.html\n",
      "  from .autonotebook import tqdm as notebook_tqdm\n"
     ]
    }
   ],
   "source": [
    "import torch\n",
    "from pathlib import Path\n",
    "\n",
    "from ciflows.flows import plInjFlowModel, TwoStageTraining\n",
    "from torchvision.utils import make_grid, save_image\n",
    "import matplotlib.pyplot as plt\n",
    "\n",
    "import logging\n",
    "from pathlib import Path\n",
    "import math\n",
    "import lightning as pl\n",
    "import normflows as nf\n",
    "import numpy as np\n",
    "import torch\n",
    "import torch.nn as nn\n",
    "from lightning.pytorch.callbacks import ModelCheckpoint\n",
    "from normflows.flows.affine import GlowBlock\n",
    "from torch.utils.data import DataLoader, random_split\n",
    "from torchvision import transforms\n",
    "from torchvision.datasets import MNIST\n",
    "\n",
    "from ciflows.flows.glow import InjectiveGlowBlock, Squeeze, Injective1x1Conv\n",
    "from ciflows.flows import TwoStageTraining, plInjFlowModel"
   ]
  },
  {
   "cell_type": "code",
   "execution_count": 4,
   "metadata": {},
   "outputs": [],
   "source": [
    "from ciflows.datasets.mnist import MNISTDataModule\n",
    "\n",
    "root = Path('/Users/adam2392/pytorch_data/ciflows/vae/results/')\n",
    "\n",
    "# Set up training configurations\n",
    "batch_size = 4\n",
    "num_workers = 8\n",
    "shuffle = True\n",
    "\n",
    "# define the data loader\n",
    "data_module = MNISTDataModule(\n",
    "    data_dir=root,\n",
    "    batch_size=batch_size,\n",
    "    shuffle=shuffle,\n",
    "    num_workers=num_workers,\n",
    ")\n",
    "data_module.setup('train')"
   ]
  },
  {
   "cell_type": "code",
   "execution_count": 5,
   "metadata": {},
   "outputs": [
    {
     "name": "stdout",
     "output_type": "stream",
     "text": [
      "torch.Size([4, 1, 32, 32])\n"
     ]
    }
   ],
   "source": [
    "dloader = data_module.train_dataloader()\n",
    "samples, classes = next(iter(dloader))   \n",
    "print(samples.shape)\n",
    "\n",
    "\n",
    "# fig, axes = plt.subplots(4, 4, figsize=(8, 8))\n",
    "# for i in range(batch_size):\n",
    "#     ax = axes[i // 4, i % 4]\n",
    "#     ax.imshow(samples[i].squeeze(), cmap=\"gray\")\n",
    "#     ax.axis(\"off\")\n",
    "\n",
    "# plt.show()"
   ]
  },
  {
   "cell_type": "code",
   "execution_count": 19,
   "metadata": {},
   "outputs": [
    {
     "name": "stdout",
     "output_type": "stream",
     "text": [
      "36\n",
      "0\n"
     ]
    }
   ],
   "source": [
    "# reload the model from checkpoint\n",
    "root = Path(\"/Users/adam2392/pytorch_data/ciflows/\")\n",
    "# root = Path('../results/')\n",
    "model_dir = root / \"injflow_twostage_batch256_gradclipNone_mnist_v1\"\n",
    "epoch = 154\n",
    "step = 66650\n",
    "\n",
    "model_fname = model_dir / f\"epoch={epoch}-step={step}.ckpt\"\n",
    "# model_fname = model_dir / f\"mse_chkpoint_50.ckpt\"\n",
    "model = plInjFlowModel.load_from_checkpoint(model_fname).to('cpu')\n",
    "\n",
    "print(len(model.get_injective_and_other_params()[0]))\n",
    "print(model.current_epoch)"
   ]
  },
  {
   "cell_type": "code",
   "execution_count": 13,
   "metadata": {},
   "outputs": [
    {
     "name": "stdout",
     "output_type": "stream",
     "text": [
      "torch.Size([4, 1, 32, 32])\n",
      "torch.Size([4, 1, 8, 8]) torch.Size([4, 1, 32, 32])\n",
      "tensor([[[nan, nan, nan,  ..., nan, nan, nan],\n",
      "         [nan, nan, nan,  ..., nan, nan, nan],\n",
      "         [nan, nan, nan,  ..., nan, nan, nan],\n",
      "         ...,\n",
      "         [nan, nan, nan,  ..., nan, nan, nan],\n",
      "         [nan, nan, nan,  ..., nan, nan, nan],\n",
      "         [nan, nan, nan,  ..., nan, nan, nan]]], grad_fn=<SelectBackward0>) tensor([[[nan, nan, nan, nan, nan, nan, nan, nan],\n",
      "         [nan, nan, nan, nan, nan, nan, nan, nan],\n",
      "         [nan, nan, nan, nan, nan, nan, nan, nan],\n",
      "         [nan, nan, nan, nan, nan, nan, nan, nan],\n",
      "         [nan, nan, nan, nan, nan, nan, nan, nan],\n",
      "         [nan, nan, nan, nan, nan, nan, nan, nan],\n",
      "         [nan, nan, nan, nan, nan, nan, nan, nan],\n",
      "         [nan, nan, nan, nan, nan, nan, nan, nan]]], grad_fn=<SelectBackward0>)\n"
     ]
    }
   ],
   "source": [
    "print(samples.shape)\n",
    "vlatent = model.inverse(samples)\n",
    "samples_recon = model.forward(vlatent)\n",
    "print(vlatent.shape, samples_recon.shape)\n",
    "print(samples_recon[0], vlatent[1])"
   ]
  },
  {
   "cell_type": "code",
   "execution_count": 11,
   "metadata": {},
   "outputs": [
    {
     "ename": "RuntimeError",
     "evalue": "Can't call numpy() on Tensor that requires grad. Use tensor.detach().numpy() instead.",
     "output_type": "error",
     "traceback": [
      "\u001b[0;31m---------------------------------------------------------------------------\u001b[0m",
      "\u001b[0;31mRuntimeError\u001b[0m                              Traceback (most recent call last)",
      "Cell \u001b[0;32mIn[11], line 4\u001b[0m\n\u001b[1;32m      2\u001b[0m \u001b[38;5;28;01mfor\u001b[39;00m i \u001b[38;5;129;01min\u001b[39;00m \u001b[38;5;28mrange\u001b[39m(\u001b[38;5;241m4\u001b[39m):\n\u001b[1;32m      3\u001b[0m     ax \u001b[38;5;241m=\u001b[39m axes[i \u001b[38;5;241m/\u001b[39m\u001b[38;5;241m/\u001b[39m \u001b[38;5;241m4\u001b[39m, i \u001b[38;5;241m%\u001b[39m \u001b[38;5;241m4\u001b[39m]\n\u001b[0;32m----> 4\u001b[0m     \u001b[43max\u001b[49m\u001b[38;5;241;43m.\u001b[39;49m\u001b[43mimshow\u001b[49m\u001b[43m(\u001b[49m\u001b[43msamples_recon\u001b[49m\u001b[43m[\u001b[49m\u001b[43mi\u001b[49m\u001b[43m]\u001b[49m\u001b[38;5;241;43m.\u001b[39;49m\u001b[43msqueeze\u001b[49m\u001b[43m(\u001b[49m\u001b[43m)\u001b[49m\u001b[43m,\u001b[49m\u001b[43m \u001b[49m\u001b[43mcmap\u001b[49m\u001b[38;5;241;43m=\u001b[39;49m\u001b[38;5;124;43m\"\u001b[39;49m\u001b[38;5;124;43mgray\u001b[39;49m\u001b[38;5;124;43m\"\u001b[39;49m\u001b[43m)\u001b[49m\n\u001b[1;32m      5\u001b[0m     ax\u001b[38;5;241m.\u001b[39maxis(\u001b[38;5;124m\"\u001b[39m\u001b[38;5;124moff\u001b[39m\u001b[38;5;124m\"\u001b[39m)\n\u001b[1;32m      7\u001b[0m plt\u001b[38;5;241m.\u001b[39mshow()\n",
      "File \u001b[0;32m~/miniforge3/envs/ciflows/lib/python3.11/site-packages/matplotlib/__init__.py:1473\u001b[0m, in \u001b[0;36m_preprocess_data.<locals>.inner\u001b[0;34m(ax, data, *args, **kwargs)\u001b[0m\n\u001b[1;32m   1470\u001b[0m \u001b[38;5;129m@functools\u001b[39m\u001b[38;5;241m.\u001b[39mwraps(func)\n\u001b[1;32m   1471\u001b[0m \u001b[38;5;28;01mdef\u001b[39;00m \u001b[38;5;21minner\u001b[39m(ax, \u001b[38;5;241m*\u001b[39margs, data\u001b[38;5;241m=\u001b[39m\u001b[38;5;28;01mNone\u001b[39;00m, \u001b[38;5;241m*\u001b[39m\u001b[38;5;241m*\u001b[39mkwargs):\n\u001b[1;32m   1472\u001b[0m     \u001b[38;5;28;01mif\u001b[39;00m data \u001b[38;5;129;01mis\u001b[39;00m \u001b[38;5;28;01mNone\u001b[39;00m:\n\u001b[0;32m-> 1473\u001b[0m         \u001b[38;5;28;01mreturn\u001b[39;00m \u001b[43mfunc\u001b[49m\u001b[43m(\u001b[49m\n\u001b[1;32m   1474\u001b[0m \u001b[43m            \u001b[49m\u001b[43max\u001b[49m\u001b[43m,\u001b[49m\n\u001b[1;32m   1475\u001b[0m \u001b[43m            \u001b[49m\u001b[38;5;241;43m*\u001b[39;49m\u001b[38;5;28;43mmap\u001b[39;49m\u001b[43m(\u001b[49m\u001b[43msanitize_sequence\u001b[49m\u001b[43m,\u001b[49m\u001b[43m \u001b[49m\u001b[43margs\u001b[49m\u001b[43m)\u001b[49m\u001b[43m,\u001b[49m\n\u001b[1;32m   1476\u001b[0m \u001b[43m            \u001b[49m\u001b[38;5;241;43m*\u001b[39;49m\u001b[38;5;241;43m*\u001b[39;49m\u001b[43m{\u001b[49m\u001b[43mk\u001b[49m\u001b[43m:\u001b[49m\u001b[43m \u001b[49m\u001b[43msanitize_sequence\u001b[49m\u001b[43m(\u001b[49m\u001b[43mv\u001b[49m\u001b[43m)\u001b[49m\u001b[43m \u001b[49m\u001b[38;5;28;43;01mfor\u001b[39;49;00m\u001b[43m \u001b[49m\u001b[43mk\u001b[49m\u001b[43m,\u001b[49m\u001b[43m \u001b[49m\u001b[43mv\u001b[49m\u001b[43m \u001b[49m\u001b[38;5;129;43;01min\u001b[39;49;00m\u001b[43m \u001b[49m\u001b[43mkwargs\u001b[49m\u001b[38;5;241;43m.\u001b[39;49m\u001b[43mitems\u001b[49m\u001b[43m(\u001b[49m\u001b[43m)\u001b[49m\u001b[43m}\u001b[49m\u001b[43m)\u001b[49m\n\u001b[1;32m   1478\u001b[0m     bound \u001b[38;5;241m=\u001b[39m new_sig\u001b[38;5;241m.\u001b[39mbind(ax, \u001b[38;5;241m*\u001b[39margs, \u001b[38;5;241m*\u001b[39m\u001b[38;5;241m*\u001b[39mkwargs)\n\u001b[1;32m   1479\u001b[0m     auto_label \u001b[38;5;241m=\u001b[39m (bound\u001b[38;5;241m.\u001b[39marguments\u001b[38;5;241m.\u001b[39mget(label_namer)\n\u001b[1;32m   1480\u001b[0m                   \u001b[38;5;129;01mor\u001b[39;00m bound\u001b[38;5;241m.\u001b[39mkwargs\u001b[38;5;241m.\u001b[39mget(label_namer))\n",
      "File \u001b[0;32m~/miniforge3/envs/ciflows/lib/python3.11/site-packages/matplotlib/axes/_axes.py:5895\u001b[0m, in \u001b[0;36mAxes.imshow\u001b[0;34m(self, X, cmap, norm, aspect, interpolation, alpha, vmin, vmax, origin, extent, interpolation_stage, filternorm, filterrad, resample, url, **kwargs)\u001b[0m\n\u001b[1;32m   5892\u001b[0m \u001b[38;5;28;01mif\u001b[39;00m aspect \u001b[38;5;129;01mis\u001b[39;00m \u001b[38;5;129;01mnot\u001b[39;00m \u001b[38;5;28;01mNone\u001b[39;00m:\n\u001b[1;32m   5893\u001b[0m     \u001b[38;5;28mself\u001b[39m\u001b[38;5;241m.\u001b[39mset_aspect(aspect)\n\u001b[0;32m-> 5895\u001b[0m \u001b[43mim\u001b[49m\u001b[38;5;241;43m.\u001b[39;49m\u001b[43mset_data\u001b[49m\u001b[43m(\u001b[49m\u001b[43mX\u001b[49m\u001b[43m)\u001b[49m\n\u001b[1;32m   5896\u001b[0m im\u001b[38;5;241m.\u001b[39mset_alpha(alpha)\n\u001b[1;32m   5897\u001b[0m \u001b[38;5;28;01mif\u001b[39;00m im\u001b[38;5;241m.\u001b[39mget_clip_path() \u001b[38;5;129;01mis\u001b[39;00m \u001b[38;5;28;01mNone\u001b[39;00m:\n\u001b[1;32m   5898\u001b[0m     \u001b[38;5;66;03m# image does not already have clipping set, clip to Axes patch\u001b[39;00m\n",
      "File \u001b[0;32m~/miniforge3/envs/ciflows/lib/python3.11/site-packages/matplotlib/image.py:729\u001b[0m, in \u001b[0;36m_ImageBase.set_data\u001b[0;34m(self, A)\u001b[0m\n\u001b[1;32m    727\u001b[0m \u001b[38;5;28;01mif\u001b[39;00m \u001b[38;5;28misinstance\u001b[39m(A, PIL\u001b[38;5;241m.\u001b[39mImage\u001b[38;5;241m.\u001b[39mImage):\n\u001b[1;32m    728\u001b[0m     A \u001b[38;5;241m=\u001b[39m pil_to_array(A)  \u001b[38;5;66;03m# Needed e.g. to apply png palette.\u001b[39;00m\n\u001b[0;32m--> 729\u001b[0m \u001b[38;5;28mself\u001b[39m\u001b[38;5;241m.\u001b[39m_A \u001b[38;5;241m=\u001b[39m \u001b[38;5;28;43mself\u001b[39;49m\u001b[38;5;241;43m.\u001b[39;49m\u001b[43m_normalize_image_array\u001b[49m\u001b[43m(\u001b[49m\u001b[43mA\u001b[49m\u001b[43m)\u001b[49m\n\u001b[1;32m    730\u001b[0m \u001b[38;5;28mself\u001b[39m\u001b[38;5;241m.\u001b[39m_imcache \u001b[38;5;241m=\u001b[39m \u001b[38;5;28;01mNone\u001b[39;00m\n\u001b[1;32m    731\u001b[0m \u001b[38;5;28mself\u001b[39m\u001b[38;5;241m.\u001b[39mstale \u001b[38;5;241m=\u001b[39m \u001b[38;5;28;01mTrue\u001b[39;00m\n",
      "File \u001b[0;32m~/miniforge3/envs/ciflows/lib/python3.11/site-packages/matplotlib/image.py:690\u001b[0m, in \u001b[0;36m_ImageBase._normalize_image_array\u001b[0;34m(A)\u001b[0m\n\u001b[1;32m    684\u001b[0m \u001b[38;5;129m@staticmethod\u001b[39m\n\u001b[1;32m    685\u001b[0m \u001b[38;5;28;01mdef\u001b[39;00m \u001b[38;5;21m_normalize_image_array\u001b[39m(A):\n\u001b[1;32m    686\u001b[0m \u001b[38;5;250m    \u001b[39m\u001b[38;5;124;03m\"\"\"\u001b[39;00m\n\u001b[1;32m    687\u001b[0m \u001b[38;5;124;03m    Check validity of image-like input *A* and normalize it to a format suitable for\u001b[39;00m\n\u001b[1;32m    688\u001b[0m \u001b[38;5;124;03m    Image subclasses.\u001b[39;00m\n\u001b[1;32m    689\u001b[0m \u001b[38;5;124;03m    \"\"\"\u001b[39;00m\n\u001b[0;32m--> 690\u001b[0m     A \u001b[38;5;241m=\u001b[39m \u001b[43mcbook\u001b[49m\u001b[38;5;241;43m.\u001b[39;49m\u001b[43msafe_masked_invalid\u001b[49m\u001b[43m(\u001b[49m\u001b[43mA\u001b[49m\u001b[43m,\u001b[49m\u001b[43m \u001b[49m\u001b[43mcopy\u001b[49m\u001b[38;5;241;43m=\u001b[39;49m\u001b[38;5;28;43;01mTrue\u001b[39;49;00m\u001b[43m)\u001b[49m\n\u001b[1;32m    691\u001b[0m     \u001b[38;5;28;01mif\u001b[39;00m A\u001b[38;5;241m.\u001b[39mdtype \u001b[38;5;241m!=\u001b[39m np\u001b[38;5;241m.\u001b[39muint8 \u001b[38;5;129;01mand\u001b[39;00m \u001b[38;5;129;01mnot\u001b[39;00m np\u001b[38;5;241m.\u001b[39mcan_cast(A\u001b[38;5;241m.\u001b[39mdtype, \u001b[38;5;28mfloat\u001b[39m, \u001b[38;5;124m\"\u001b[39m\u001b[38;5;124msame_kind\u001b[39m\u001b[38;5;124m\"\u001b[39m):\n\u001b[1;32m    692\u001b[0m         \u001b[38;5;28;01mraise\u001b[39;00m \u001b[38;5;167;01mTypeError\u001b[39;00m(\u001b[38;5;124mf\u001b[39m\u001b[38;5;124m\"\u001b[39m\u001b[38;5;124mImage data of dtype \u001b[39m\u001b[38;5;132;01m{\u001b[39;00mA\u001b[38;5;241m.\u001b[39mdtype\u001b[38;5;132;01m}\u001b[39;00m\u001b[38;5;124m cannot be \u001b[39m\u001b[38;5;124m\"\u001b[39m\n\u001b[1;32m    693\u001b[0m                         \u001b[38;5;124mf\u001b[39m\u001b[38;5;124m\"\u001b[39m\u001b[38;5;124mconverted to float\u001b[39m\u001b[38;5;124m\"\u001b[39m)\n",
      "File \u001b[0;32m~/miniforge3/envs/ciflows/lib/python3.11/site-packages/matplotlib/cbook.py:733\u001b[0m, in \u001b[0;36msafe_masked_invalid\u001b[0;34m(x, copy)\u001b[0m\n\u001b[1;32m    732\u001b[0m \u001b[38;5;28;01mdef\u001b[39;00m \u001b[38;5;21msafe_masked_invalid\u001b[39m(x, copy\u001b[38;5;241m=\u001b[39m\u001b[38;5;28;01mFalse\u001b[39;00m):\n\u001b[0;32m--> 733\u001b[0m     x \u001b[38;5;241m=\u001b[39m \u001b[43mnp\u001b[49m\u001b[38;5;241;43m.\u001b[39;49m\u001b[43marray\u001b[49m\u001b[43m(\u001b[49m\u001b[43mx\u001b[49m\u001b[43m,\u001b[49m\u001b[43m \u001b[49m\u001b[43msubok\u001b[49m\u001b[38;5;241;43m=\u001b[39;49m\u001b[38;5;28;43;01mTrue\u001b[39;49;00m\u001b[43m,\u001b[49m\u001b[43m \u001b[49m\u001b[43mcopy\u001b[49m\u001b[38;5;241;43m=\u001b[39;49m\u001b[43mcopy\u001b[49m\u001b[43m)\u001b[49m\n\u001b[1;32m    734\u001b[0m     \u001b[38;5;28;01mif\u001b[39;00m \u001b[38;5;129;01mnot\u001b[39;00m x\u001b[38;5;241m.\u001b[39mdtype\u001b[38;5;241m.\u001b[39misnative:\n\u001b[1;32m    735\u001b[0m         \u001b[38;5;66;03m# If we have already made a copy, do the byteswap in place, else make a\u001b[39;00m\n\u001b[1;32m    736\u001b[0m         \u001b[38;5;66;03m# copy with the byte order swapped.\u001b[39;00m\n\u001b[1;32m    737\u001b[0m         \u001b[38;5;66;03m# Swap to native order.\u001b[39;00m\n\u001b[1;32m    738\u001b[0m         x \u001b[38;5;241m=\u001b[39m x\u001b[38;5;241m.\u001b[39mbyteswap(inplace\u001b[38;5;241m=\u001b[39mcopy)\u001b[38;5;241m.\u001b[39mview(x\u001b[38;5;241m.\u001b[39mdtype\u001b[38;5;241m.\u001b[39mnewbyteorder(\u001b[38;5;124m'\u001b[39m\u001b[38;5;124mN\u001b[39m\u001b[38;5;124m'\u001b[39m))\n",
      "File \u001b[0;32m~/miniforge3/envs/ciflows/lib/python3.11/site-packages/torch/_tensor.py:1083\u001b[0m, in \u001b[0;36mTensor.__array__\u001b[0;34m(self, dtype)\u001b[0m\n\u001b[1;32m   1081\u001b[0m     \u001b[38;5;28;01mreturn\u001b[39;00m handle_torch_function(Tensor\u001b[38;5;241m.\u001b[39m__array__, (\u001b[38;5;28mself\u001b[39m,), \u001b[38;5;28mself\u001b[39m, dtype\u001b[38;5;241m=\u001b[39mdtype)\n\u001b[1;32m   1082\u001b[0m \u001b[38;5;28;01mif\u001b[39;00m dtype \u001b[38;5;129;01mis\u001b[39;00m \u001b[38;5;28;01mNone\u001b[39;00m:\n\u001b[0;32m-> 1083\u001b[0m     \u001b[38;5;28;01mreturn\u001b[39;00m \u001b[38;5;28;43mself\u001b[39;49m\u001b[38;5;241;43m.\u001b[39;49m\u001b[43mnumpy\u001b[49m\u001b[43m(\u001b[49m\u001b[43m)\u001b[49m\n\u001b[1;32m   1084\u001b[0m \u001b[38;5;28;01melse\u001b[39;00m:\n\u001b[1;32m   1085\u001b[0m     \u001b[38;5;28;01mreturn\u001b[39;00m \u001b[38;5;28mself\u001b[39m\u001b[38;5;241m.\u001b[39mnumpy()\u001b[38;5;241m.\u001b[39mastype(dtype, copy\u001b[38;5;241m=\u001b[39m\u001b[38;5;28;01mFalse\u001b[39;00m)\n",
      "\u001b[0;31mRuntimeError\u001b[0m: Can't call numpy() on Tensor that requires grad. Use tensor.detach().numpy() instead."
     ]
    },
    {
     "data": {
      "image/png": "[encoded data removed]",
      "text/plain": [
       "<Figure size 800x800 with 16 Axes>"
      ]
     },
     "metadata": {},
     "output_type": "display_data"
    }
   ],
   "source": [
    "fig, axes = plt.subplots(4, 4, figsize=(8, 8))\n",
    "for i in range(4):\n",
    "    ax = axes[i // 4, i % 4]\n",
    "    ax.imshow(samples_recon[i].squeeze(), cmap=\"gray\")\n",
    "    ax.axis(\"off\")\n",
    "\n",
    "plt.show()"
   ]
  },
  {
   "cell_type": "code",
   "execution_count": 20,
   "metadata": {},
   "outputs": [
    {
     "name": "stdout",
     "output_type": "stream",
     "text": [
      "GlowBlock tensor(2.6007) tensor(-2.9593)\n",
      "GlowBlock tensor(2.5175) tensor(-2.5673)\n",
      "GlowBlock tensor(1.9993) tensor(-2.2344)\n",
      "GlowBlock tensor(2.2094) tensor(-1.9121)\n",
      "InjectiveGlowBlock tensor(1.8177) tensor(-1.6344)\n",
      "GlowBlock tensor(3.6624) tensor(-0.6356)\n",
      "GlowBlock tensor(0.9980) tensor(-3.9383)\n",
      "GlowBlock tensor(2.7060) tensor(-7.1982)\n",
      "GlowBlock tensor(10.3287) tensor(-26.3626)\n",
      "InjectiveGlowBlock tensor(10.4426) tensor(-22.6107)\n",
      "GlowBlock tensor(927.6102) tensor(-1.2980)\n",
      "GlowBlock tensor(801.8052) tensor(-141.0081)\n",
      "GlowBlock tensor(389.0199) tensor(-328.6043)\n",
      "GlowBlock tensor(244.7850) tensor(-318.4745)\n",
      "InjectiveGlowBlock tensor(259.5939) tensor(-977.2053)\n",
      "GlowBlock tensor(117359.8906) tensor(-0.8283)\n",
      "GlowBlock tensor(52317.9219) tensor(-42659.0742)\n",
      "GlowBlock tensor(81821.7031) tensor(-54006.2500)\n",
      "GlowBlock tensor(39893.8906) tensor(-38340.4414)\n",
      "InjectiveGlowBlock tensor(27192.7422) tensor(-31694.8555)\n",
      "GlowBlock tensor(8179993.) tensor(-2.3432)\n",
      "GlowBlock tensor(2329653.) tensor(-2124655.2500)\n",
      "GlowBlock tensor(979590.4375) tensor(-2021889.6250)\n",
      "GlowBlock tensor(1265006.) tensor(-720523.5000)\n",
      "Squeeze tensor(nan) tensor(nan)\n",
      "z has nans\n",
      "GlowBlock tensor(nan) tensor(nan)\n",
      "z has nans\n",
      "GlowBlock tensor(nan) tensor(nan)\n",
      "z has nans\n",
      "GlowBlock tensor(nan) tensor(nan)\n",
      "z has nans\n",
      "GlowBlock tensor(nan) tensor(nan)\n",
      "z has nans\n",
      "Squeeze tensor(nan) tensor(nan)\n",
      "z has nans\n",
      "tensor([[[nan, nan, nan,  ..., nan, nan, nan],\n",
      "         [nan, nan, nan,  ..., nan, nan, nan],\n",
      "         [nan, nan, nan,  ..., nan, nan, nan],\n",
      "         ...,\n",
      "         [nan, nan, nan,  ..., nan, nan, nan],\n",
      "         [nan, nan, nan,  ..., nan, nan, nan],\n",
      "         [nan, nan, nan,  ..., nan, nan, nan]]])\n"
     ]
    }
   ],
   "source": [
    "# samples = samples_recon\n",
    "# Step 8: Generate Samples\n",
    "num_samples = 16\n",
    "model.eval()\n",
    "model = model.to(torch.device(\"cpu\"))\n",
    "with torch.no_grad():\n",
    "    samples, _ = model.sample(num_samples)  # Generate samples\n",
    "    samples = samples.view(-1, 1, 32, 32).cpu()  # Reshape for plotting\n",
    "\n",
    "# Visualize generated samples\n",
    "print(samples[0])"
   ]
  },
  {
   "cell_type": "code",
   "execution_count": 94,
   "metadata": {},
   "outputs": [
    {
     "name": "stdout",
     "output_type": "stream",
     "text": [
      "torch.Size([3, 138, 138])\n"
     ]
    },
    {
     "data": {
      "image/png": "[encoded data removed]",
      "text/plain": [
       "<Figure size 800x800 with 16 Axes>"
      ]
     },
     "metadata": {},
     "output_type": "display_data"
    }
   ],
   "source": [
    "# samples = samples_recon.detach()\n",
    "\n",
    "# Visualize generated samples\n",
    "grid_size = make_grid(samples, nrow=4, padding=2)\n",
    "# save_image(grid_size, \"generated_samples.png\", normalize=True)\n",
    "\n",
    "print(grid_size.shape)\n",
    "fig, axes = plt.subplots(4, 4, figsize=(8, 8))\n",
    "for i in range(num_samples):\n",
    "    ax = axes[i // 4, i % 4]\n",
    "    ax.imshow(samples[i].squeeze(), cmap=\"gray\")\n",
    "    ax.axis(\"off\")\n",
    "\n",
    "plt.show()"
   ]
  },
  {
   "cell_type": "markdown",
   "metadata": {},
   "source": [
    "## Sample build a model and demonstrate it"
   ]
  },
  {
   "cell_type": "code",
   "execution_count": 71,
   "metadata": {},
   "outputs": [],
   "source": [
    "def initialize_flow(model):\n",
    "    \"\"\"\n",
    "    Initialize a full normalizing flow model\n",
    "    \"\"\"\n",
    "    for name, param in model.named_parameters():\n",
    "        if \"weight\" in name:\n",
    "            # Layer-dependent initialization\n",
    "            if \"coupling\" in name:\n",
    "                nn.init.normal_(param, mean=0.0, std=0.01)\n",
    "            else:\n",
    "                nn.init.xavier_uniform_(param)\n",
    "        elif \"bias\" in name:\n",
    "            nn.init.constant_(param, 0.0)\n",
    "\n"
   ]
  },
  {
   "cell_type": "code",
   "execution_count": 23,
   "metadata": {},
   "outputs": [],
   "source": [
    "\n",
    "def get_inj_model():\n",
    "    use_lu = True\n",
    "    gamma = 1e-6\n",
    "    activation = \"linear\"\n",
    "\n",
    "    n_hidden = 512\n",
    "    n_glow_blocks = 3\n",
    "    n_mixing_layers = 2\n",
    "    n_injective_layers = 4\n",
    "    n_layers = n_mixing_layers + n_injective_layers\n",
    "\n",
    "    input_shape = (1, 32, 32)\n",
    "    n_channels = input_shape[0]\n",
    "    img_size = input_shape[1]\n",
    "\n",
    "    n_chs = n_channels\n",
    "    flows = []\n",
    "\n",
    "    debug = False\n",
    "\n",
    "    n_chs = int(n_channels * 4**n_mixing_layers * (1 / 2) ** n_injective_layers)\n",
    "    print(\"Starting at latent representation: \", n_chs)\n",
    "    latent_size = int(img_size / (2**n_mixing_layers))\n",
    "    q0 = nf.distributions.DiagGaussian((n_chs, latent_size, latent_size))\n",
    "\n",
    "    split_mode = \"channel\"\n",
    "\n",
    "    for i in range(n_injective_layers):\n",
    "        if i == 0:\n",
    "            split_mode = \"checkerboard\"\n",
    "        else:\n",
    "            split_mode = \"channel\"\n",
    "\n",
    "        for j in range(n_glow_blocks):\n",
    "            flows += [\n",
    "                GlowBlock(\n",
    "                    channels=n_chs,\n",
    "                    hidden_channels=n_hidden,\n",
    "                    use_lu=use_lu,\n",
    "                    scale=True,\n",
    "                    split_mode=split_mode,\n",
    "                )\n",
    "            ]\n",
    "\n",
    "        # input to inj flow is what is at the X -> V layer\n",
    "        flows += [\n",
    "            InjectiveGlowBlock(\n",
    "                channels=n_chs,\n",
    "                hidden_channels=n_hidden,\n",
    "                activation=activation,\n",
    "                scale=True,\n",
    "                gamma=gamma,\n",
    "                debug=debug,\n",
    "                split_mode=split_mode,\n",
    "            )\n",
    "        ]\n",
    "        n_chs = n_chs * 2\n",
    "        if debug:\n",
    "            print(f\"On layer {n_layers - i}, n_chs = {n_chs//2} -> {n_chs}\")\n",
    "\n",
    "    for i in range(n_mixing_layers):\n",
    "        for j in range(n_glow_blocks):\n",
    "            flows += [\n",
    "                GlowBlock(\n",
    "                    channels=n_chs,\n",
    "                    hidden_channels=n_hidden,\n",
    "                    use_lu=use_lu,\n",
    "                    scale=True,\n",
    "                    split_mode=split_mode\n",
    "                )\n",
    "            ]\n",
    "        flows += [Squeeze()]\n",
    "        n_chs = n_chs // 4\n",
    "        if debug:\n",
    "            print(f\"On layer {n_mixing_layers - i}, n_chs = {n_chs}\")\n",
    "\n",
    "    model = nf.NormalizingFlow(q0=q0, flows=flows)\n",
    "    model.output_n_chs = n_chs\n",
    "    pytorch_total_params = sum(p.numel() for p in model.parameters() if p.requires_grad)\n",
    "    print(pytorch_total_params)\n",
    "\n",
    "    return model\n",
    "\n",
    "\n",
    "def get_bij_model(n_chs, latent_size):\n",
    "    use_lu = True\n",
    "    n_hidden = 256\n",
    "    n_glow_blocks = 6\n",
    "\n",
    "    flows = []\n",
    "\n",
    "    debug = False\n",
    "\n",
    "    print(\"Starting at latent representation: \", n_chs, latent_size, latent_size)\n",
    "    q0 = nf.distributions.DiagGaussian((n_chs, latent_size, latent_size))\n",
    "\n",
    "    split_mode = \"checkerboard\"\n",
    "\n",
    "    for i in range(n_glow_blocks):\n",
    "        flows += [\n",
    "            GlowBlock(\n",
    "                channels=n_chs,\n",
    "                hidden_channels=n_hidden,\n",
    "                use_lu=use_lu,\n",
    "                scale=True,\n",
    "                split_mode=split_mode,\n",
    "            )\n",
    "        ]\n",
    "\n",
    "        if debug:\n",
    "            print(f\"On layer {n_glow_blocks - i}, n_chs = {n_chs//2} -> {n_chs}\")\n",
    "\n",
    "    model = nf.NormalizingFlow(q0=q0, flows=flows)\n",
    "\n",
    "    pytorch_total_params = sum(p.numel() for p in model.parameters() if p.requires_grad)\n",
    "    print(pytorch_total_params)\n",
    "    return model"
   ]
  },
  {
   "cell_type": "code",
   "execution_count": 25,
   "metadata": {},
   "outputs": [
    {
     "name": "stdout",
     "output_type": "stream",
     "text": [
      "Starting at latent representation:  1\n",
      "6649714\n",
      "torch.Size([2, 1, 8, 8])\n",
      "Starting at latent representation:  1 8 8\n",
      "437912\n",
      "torch.Size([2, 1, 8, 8])\n"
     ]
    }
   ],
   "source": [
    "inj_model = get_inj_model()\n",
    "samples = inj_model.q0.sample(2)\n",
    "_, n_chs, latent_size, _ = samples.shape\n",
    "print(samples.shape)\n",
    "\n",
    "bij_model = get_bij_model(n_chs=1, latent_size=8)\n",
    "samples = bij_model(samples)\n",
    "print(samples.shape)\n",
    "# glow_block = GlowBlock(1, 64, use_lu=True, scale=True, split_mode='checkerboard')\n",
    "# output, _ = glow_block.forward(samples)\n",
    "# print(output.shape)"
   ]
  },
  {
   "cell_type": "code",
   "execution_count": 100,
   "metadata": {},
   "outputs": [
    {
     "name": "stderr",
     "output_type": "stream",
     "text": [
      "Seed set to 12345\n",
      "INFO:root:\n",
      "\n",
      "\tsaving to check_injflow_mnist_v2-model.pt \n",
      "\n",
      "GPU available: True (mps), used: True\n",
      "TPU available: False, using: 0 TPU cores\n",
      "HPU available: False, using: 0 HPUs\n"
     ]
    },
    {
     "name": "stdout",
     "output_type": "stream",
     "text": [
      "Using device: mps\n",
      "Using accelerator: mps\n",
      "Starting at latent representation:  1\n",
      "On layer 6, n_chs = 1 -> 2\n",
      "On layer 5, n_chs = 2 -> 4\n",
      "On layer 4, n_chs = 4 -> 8\n",
      "On layer 3, n_chs = 8 -> 16\n",
      "On layer 2, n_chs = 4\n",
      "On layer 1, n_chs = 1\n",
      "145694\n"
     ]
    },
    {
     "name": "stderr",
     "output_type": "stream",
     "text": [
      "/Users/adam2392/miniforge3/envs/ciflows/lib/python3.11/site-packages/lightning/pytorch/utilities/parsing.py:208: Attribute 'model' is an instance of `nn.Module` and is already saved during checkpointing. It is recommended to ignore them using `self.save_hyperparameters(ignore=['model'])`.\n"
     ]
    }
   ],
   "source": [
    "# set seed\n",
    "seed = 12345\n",
    "np.random.seed(seed)\n",
    "pl.seed_everything(seed, workers=True)\n",
    "\n",
    "if torch.cuda.is_available():\n",
    "    device = torch.device(\"cuda\")\n",
    "    accelerator = \"cuda\"\n",
    "elif torch.backends.mps.is_available():\n",
    "    device = torch.device(\"mps\")\n",
    "    accelerator = \"mps\"\n",
    "else:\n",
    "    device = torch.device(\"cpu\")\n",
    "    accelerator = \"cpu\"\n",
    "\n",
    "print(f\"Using device: {device}\")\n",
    "print(f\"Using accelerator: {accelerator}\")\n",
    "\n",
    "debug = False\n",
    "fast_dev = False\n",
    "max_epochs = 1000\n",
    "if debug:\n",
    "    accelerator = \"cpu\"\n",
    "    fast_dev = True\n",
    "    max_epochs = 1\n",
    "\n",
    "batch_size = 128\n",
    "n_steps_mse = 500\n",
    "devices = 1\n",
    "strategy = \"auto\"  # or ddp if distributed\n",
    "num_workers = 4\n",
    "gradient_clip_val = None  # 1.0\n",
    "check_val_every_n_epoch = 5\n",
    "monitor = \"val_loss\"\n",
    "\n",
    "lr = 3e-4\n",
    "lr_min = 1e-8\n",
    "lr_scheduler = \"cosine\"\n",
    "\n",
    "# whether or not to shuffle dataset\n",
    "shuffle = True\n",
    "\n",
    "# output filename for the results\n",
    "root = \"./data/\"\n",
    "model_name = \"check_injflow_mnist_v2\"\n",
    "checkpoint_dir = Path(\"./results\") / model_name\n",
    "checkpoint_dir.mkdir(exist_ok=True, parents=True)\n",
    "\n",
    "model_fname = f\"{model_name}-model.pt\"\n",
    "\n",
    "checkpoint_callback = ModelCheckpoint(\n",
    "    dirpath=checkpoint_dir,\n",
    "    save_top_k=5,\n",
    "    monitor=monitor,\n",
    "    every_n_epochs=check_val_every_n_epoch,\n",
    ")\n",
    "\n",
    "\n",
    "logging.basicConfig(level=logging.INFO)\n",
    "logger = logging.getLogger(__name__)\n",
    "logging.info(f\"\\n\\n\\tsaving to {model_fname} \\n\")\n",
    "\n",
    "# Define the trainer\n",
    "trainer = pl.Trainer(\n",
    "    logger=False,\n",
    "    max_epochs=max_epochs,\n",
    "    devices=devices,\n",
    "    strategy=strategy,\n",
    "    callbacks=[checkpoint_callback, TwoStageTraining()],\n",
    "    check_val_every_n_epoch=check_val_every_n_epoch,\n",
    "    accelerator=accelerator,\n",
    "    # fast_dev_run=fast_dev,\n",
    "    # log_every_n_steps=1,\n",
    "    # max_epochs=1,\n",
    "    # limit_train_batches=1,\n",
    "    # limit_val_batches=1,\n",
    ")\n",
    "\n",
    "# define the model\n",
    "flow_model = get_model()\n",
    "initialize_flow(flow_model)\n",
    "model = plInjFlowModel(\n",
    "    flow_model,\n",
    "    lr=lr,\n",
    "    lr_min=lr_min,\n",
    "    lr_scheduler=lr_scheduler,\n",
    "    n_steps_mse=n_steps_mse,\n",
    ")"
   ]
  },
  {
   "cell_type": "code",
   "execution_count": 101,
   "metadata": {},
   "outputs": [
    {
     "name": "stdout",
     "output_type": "stream",
     "text": [
      "AffineCouplingBlock torch.Size([16, 1, 8, 8])\n",
      "Injective1x1Conv torch.Size([16, 1, 8, 8])\n",
      "ActNorm torch.Size([16, 2, 8, 8])\n",
      "AffineCouplingBlock torch.Size([16, 2, 8, 8])\n",
      "Injective1x1Conv torch.Size([16, 2, 8, 8])\n",
      "ActNorm torch.Size([16, 4, 8, 8])\n",
      "AffineCouplingBlock torch.Size([16, 4, 8, 8])\n",
      "Injective1x1Conv torch.Size([16, 4, 8, 8])\n",
      "ActNorm torch.Size([16, 8, 8, 8])\n",
      "AffineCouplingBlock torch.Size([16, 8, 8, 8])\n",
      "Injective1x1Conv torch.Size([16, 8, 8, 8])\n",
      "ActNorm torch.Size([16, 16, 8, 8])\n",
      "Output images:  torch.Size([16, 1, 32, 32])\n"
     ]
    }
   ],
   "source": [
    "\n",
    "# sample the data\n",
    "num_samples = 16\n",
    "samples, _ = model.sample(num_samples)\n",
    "print('Output images: ', samples.shape)"
   ]
  },
  {
   "cell_type": "code",
   "execution_count": 102,
   "metadata": {},
   "outputs": [
    {
     "name": "stdout",
     "output_type": "stream",
     "text": [
      "torch.Size([3, 138, 138])\n"
     ]
    },
    {
     "data": {
      "image/png": "[encoded data removed]",
      "text/plain": [
       "<Figure size 800x800 with 16 Axes>"
      ]
     },
     "metadata": {},
     "output_type": "display_data"
    }
   ],
   "source": [
    "#  Visualize generated samples\n",
    "grid_size = make_grid(samples, nrow=4, padding=2)\n",
    "\n",
    "print(grid_size.shape)\n",
    "fig, axes = plt.subplots(4, 4, figsize=(8, 8))\n",
    "for i in range(num_samples):\n",
    "    ax = axes[i // 4, i % 4]\n",
    "    ax.imshow(samples[i].squeeze(), cmap=\"gray\")\n",
    "    ax.axis(\"off\")"
   ]
  },
  {
   "cell_type": "code",
   "execution_count": null,
   "metadata": {},
   "outputs": [],
   "source": [
    "# inspect "
   ]
  }
 ],
 "metadata": {
  "kernelspec": {
   "display_name": "ciflows",
   "language": "python",
   "name": "python3"
  },
  "language_info": {
   "codemirror_mode": {
    "name": "ipython",
    "version": 3
   },
   "file_extension": ".py",
   "mimetype": "text/x-python",
   "name": "python",
   "nbconvert_exporter": "python",
   "pygments_lexer": "ipython3",
   "version": "3.11.10"
  },
  "orig_nbformat": 4
 },
 "nbformat": 4,
 "nbformat_minor": 2
}
