{
 "cells": [
  {
   "cell_type": "code",
   "execution_count": 1,
   "metadata": {},
   "outputs": [],
   "source": [
    "%load_ext autoreload\n",
    "%autoreload 2"
   ]
  },
  {
   "cell_type": "code",
   "execution_count": 2,
   "metadata": {},
   "outputs": [
    {
     "name": "stderr",
     "output_type": "stream",
     "text": [
      "/Users/adam2392/miniforge3/envs/ciflows/lib/python3.11/site-packages/tqdm/auto.py:21: TqdmWarning: IProgress not found. Please update jupyter and ipywidgets. See https://ipywidgets.readthedocs.io/en/stable/user_install.html\n",
      "  from .autonotebook import tqdm as notebook_tqdm\n"
     ]
    }
   ],
   "source": [
    "import torch\n",
    "from pathlib import Path\n",
    "import lightning as pl\n",
    "from torchvision.utils import make_grid, save_image\n",
    "import matplotlib.pyplot as plt"
   ]
  },
  {
   "cell_type": "code",
   "execution_count": 3,
   "metadata": {},
   "outputs": [],
   "source": [
    "\n",
    "class plFFFConvVAE(pl.LightningModule):\n",
    "    def __init__(\n",
    "        self,\n",
    "        encoder,\n",
    "        decoder,\n",
    "        latent,\n",
    "        lr=3e-4,\n",
    "        lr_min: float = 1e-8,\n",
    "        lr_scheduler=None,\n",
    "        hutchinson_samples=2,\n",
    "        beta=1.0,\n",
    "    ):\n",
    "        super().__init__()\n",
    "        # ensure that the model is saved and can be loaded later as a checkpoint\n",
    "        self.save_hyperparameters()\n",
    "\n",
    "        self.encoder = encoder\n",
    "        self.decoder = decoder\n",
    "        self.latent = latent\n",
    "\n",
    "        self.lr = lr\n",
    "        self.lr_min = lr_min\n",
    "        self.lr_scheduler = lr_scheduler\n",
    "        self.hutchinson_samples = hutchinson_samples\n",
    "        self.beta = torch.Tensor([beta])\n",
    "\n",
    "    def forward(self, x, target=None):\n",
    "        \"\"\"Foward pass.\"\"\"\n",
    "        return self.encoder(x)\n",
    "\n",
    "    def configure_optimizers(self):\n",
    "        optimizer = optim.Adam(self.parameters(), lr=self.lr)\n",
    "        if self.lr_scheduler == \"cosine\":\n",
    "            # cosine learning rate annealing\n",
    "            scheduler = torch.optim.lr_scheduler.CosineAnnealingLR(\n",
    "                optimizer,\n",
    "                T_max=self.trainer.max_epochs,\n",
    "                eta_min=self.lr_min,\n",
    "                verbose=True,\n",
    "            )\n",
    "        elif self.lr_scheduler == \"step\":\n",
    "            # An scheduler is optional, but can help in flows to get the last bpd improvement\n",
    "            scheduler = optim.lr_scheduler.StepLR(optimizer, 1, gamma=0.99)\n",
    "        else:\n",
    "            scheduler = None\n",
    "        return [optimizer], [scheduler]\n",
    "\n",
    "    def training_step(self, batch, batch_idx):\n",
    "        x, _ = batch\n",
    "        B = x.size(0)\n",
    "        # get the surrogate loss, latent representation, and reconstructed tensor\n",
    "        surrogate_loss, v_hat, x_hat = volume_change_surrogate(\n",
    "            x,\n",
    "            self.encoder,\n",
    "            self.decoder,\n",
    "            hutchinson_samples=self.hutchinson_samples,\n",
    "        )\n",
    "        # compute reconstruction loss\n",
    "        # loss_reconstruction = torch.nn.functional.mse_loss(x_hat, x)\n",
    "        loss_reconstruction = ((x - x_hat) ** 2).reshape(B, -1).sum(-1)\n",
    "\n",
    "        # print(x.shape, x_hat.shape)\n",
    "        # assert torch.allclose(x.shape, x_hat.shape, atol=1e-5)\n",
    "        # get negative log likelihoood\n",
    "        v_hat = v_hat.view(B, -1)\n",
    "        loss_nll = -self.latent.log_prob(v_hat) - surrogate_loss\n",
    "\n",
    "        # print(loss_reconstruction.shape, loss_nll.shape)\n",
    "        loss = (self.beta * loss_reconstruction + loss_nll).mean()\n",
    "\n",
    "        if batch_idx % 100 == 0:\n",
    "            print()\n",
    "            print(f\"train_loss: {loss.item():.3f} | recon_loss: {loss_reconstruction.mean().item():.3f} | nll_loss: {loss_nll.mean().item():.3f} | surrogate_loss: {surrogate_loss.mean().item():.3f}\")\n",
    "        self.log(\"train_loss\", loss)\n",
    "        return loss\n",
    "\n",
    "    @torch.no_grad()\n",
    "    def sample(self, num_samples=1, **params):\n",
    "        \"\"\"\n",
    "        Sample a batch of images from the flow.\n",
    "        \"\"\"\n",
    "        # sample latent space and reshape to (batches, 1, embed_dim)\n",
    "        v = self.latent.sample(num_samples, **params)\n",
    "        v = v.reshape(num_samples, 1, -1)\n",
    "        return self.decoder(v)\n",
    "\n",
    "    def validation_step(self, batch, batch_idx):\n",
    "        x, _ = batch\n",
    "        B = x.size(0)\n",
    "        self.beta = self.beta.to(x.device)\n",
    "\n",
    "        # get the surrogate loss, latent representation, and reconstructed tensor\n",
    "        surrogate_loss, v_hat, x_hat = volume_change_surrogate(\n",
    "            x,\n",
    "            self.encoder,\n",
    "            self.decoder,\n",
    "            hutchinson_samples=self.hutchinson_samples,\n",
    "        )\n",
    "        # compute reconstruction loss\n",
    "        loss_reconstruction = torch.nn.functional.mse_loss(x_hat, x).to(x.device)\n",
    "\n",
    "        # get negative log likelihoood\n",
    "        v_hat = v_hat.view(B, -1)\n",
    "        loss_nll = -self.latent.log_prob(v_hat).mean() - surrogate_loss\n",
    "\n",
    "        loss = (self.beta * loss_reconstruction + loss_nll).mean()\n",
    "        # Print the loss to the console\n",
    "        if batch_idx % 100 == 0:\n",
    "            print(f\"val_loss: {loss.item():.3f}\")\n",
    "        self.log(\"val_loss\", loss)\n",
    "        return loss"
   ]
  },
  {
   "cell_type": "code",
   "execution_count": 13,
   "metadata": {},
   "outputs": [],
   "source": [
    "# reload the model from checkpoint\n",
    "root = Path('/Users/adam2392/pytorch_data/ciflows/vae/results/')\n",
    "\n",
    "model_dir = root / 'check_fif_convvae_mnist_v1'\n",
    "model_dir = root / 'check_fif_convvae_mnist_latentdim12_v2'\n",
    "model_dir = root / 'check_fif_convvae_mnist_latentdim12_beta5_v3'\n",
    "model_dir = root / 'check_fif_convvae_mnist_latentdim12_beta50_v1'\n",
    "model_dir = root / 'check_fif_convvae_mnist_latentdim128_beta100_v1'\n",
    "\n",
    "model_dir = root / 'check_fif_convvae_mnist_batch1024_latentdim64_beta100_v1'\n",
    "# model_dir = root / 'check_fif_convvae_mnist_latentdim128_beta50_v1'\n",
    "# model_dir = root / 'check_fif_convvae_mnist_latentdim128_beta5_v2'\n",
    "\n",
    "epoch =24\n",
    "step= 1350\n",
    "model_fname = model_dir / f'epoch={epoch}-step={step}.ckpt'\n",
    "# checkpoint = torch.load(model_fname, map_location='mps')\n",
    "\n",
    "model = plFFFConvVAE.load_from_checkpoint(model_fname)\n",
    "# print(checkpoint.keys())"
   ]
  },
  {
   "cell_type": "code",
   "execution_count": 14,
   "metadata": {},
   "outputs": [],
   "source": [
    "\n",
    "# samples = sample_from_vae(model, n_samples=16, latent_dim=16)\n",
    "samples = model.sample(16)"
   ]
  },
  {
   "cell_type": "code",
   "execution_count": 15,
   "metadata": {},
   "outputs": [
    {
     "name": "stdout",
     "output_type": "stream",
     "text": [
      "torch.Size([3, 122, 122])\n"
     ]
    },
    {
     "data": {
      "image/png": "[encoded data removed]",
      "text/plain": [
       "<Figure size 800x800 with 16 Axes>"
      ]
     },
     "metadata": {},
     "output_type": "display_data"
    }
   ],
   "source": [
    "num_samples = 16\n",
    "\n",
    "# Visualize generated samples\n",
    "grid_size = make_grid(samples, nrow=4, padding=2)\n",
    "save_image(grid_size, 'generated_samples.png', normalize=False)\n",
    "\n",
    "print(grid_size.shape)\n",
    "fig, axes = plt.subplots(4, 4, figsize=(8, 8))\n",
    "for i in range(num_samples):\n",
    "    ax = axes[i // 4, i % 4]\n",
    "    ax.imshow(samples[i].squeeze(), cmap='gray')\n",
    "    ax.axis('off')\n",
    "\n",
    "plt.show()"
   ]
  },
  {
   "cell_type": "code",
   "execution_count": null,
   "metadata": {},
   "outputs": [],
   "source": []
  },
  {
   "cell_type": "code",
   "execution_count": 56,
   "metadata": {},
   "outputs": [],
   "source": [
    "from ciflows.datasets.mnist import MNISTDataModule\n",
    "\n",
    "# Set up training configurations\n",
    "batch_size = 16\n",
    "num_workers = 8\n",
    "shuffle = True\n",
    "\n",
    "# define the data loader\n",
    "data_module = MNISTDataModule(\n",
    "    data_dir=root,\n",
    "    batch_size=batch_size,\n",
    "    shuffle=shuffle,\n",
    "    num_workers=num_workers,\n",
    ")\n",
    "data_module.setup('train')"
   ]
  },
  {
   "cell_type": "code",
   "execution_count": 59,
   "metadata": {},
   "outputs": [
    {
     "name": "stdout",
     "output_type": "stream",
     "text": [
      "torch.Size([16, 1, 28, 28])\n"
     ]
    }
   ],
   "source": [
    "dloader = data_module.train_dataloader()\n",
    "samples, classes = next(iter(dloader))   \n",
    "print(samples.shape)\n"
   ]
  },
  {
   "cell_type": "code",
   "execution_count": 60,
   "metadata": {},
   "outputs": [
    {
     "name": "stdout",
     "output_type": "stream",
     "text": [
      "torch.Size([3, 122, 122])\n"
     ]
    },
    {
     "data": {
      "image/png": "[encoded data removed]",
      "text/plain": [
       "<Figure size 800x800 with 16 Axes>"
      ]
     },
     "metadata": {},
     "output_type": "display_data"
    }
   ],
   "source": [
    "# Visualize generated samples\n",
    "grid_size = make_grid(samples, nrow=4, padding=2)\n",
    "save_image(grid_size, 'generated_samples.png', normalize=False)\n",
    "\n",
    "print(grid_size.shape)\n",
    "fig, axes = plt.subplots(4, 4, figsize=(8, 8))\n",
    "for i in range(num_samples):\n",
    "    ax = axes[i // 4, i % 4]\n",
    "    ax.imshow(samples[i].squeeze(), cmap='gray')\n",
    "    ax.axis('off')\n",
    "\n",
    "plt.show()"
   ]
  },
  {
   "cell_type": "code",
   "execution_count": 64,
   "metadata": {},
   "outputs": [
    {
     "name": "stdout",
     "output_type": "stream",
     "text": [
      "torch.Size([16, 64]) torch.Size([16, 1, 28, 28])\n"
     ]
    }
   ],
   "source": [
    "# now try encoding and decoding\n",
    "encoded = model.encoder(samples)\n",
    "decoded = model.decoder(encoded).detach()\n",
    "print(encoded.shape, decoded.shape)"
   ]
  },
  {
   "cell_type": "code",
   "execution_count": 65,
   "metadata": {},
   "outputs": [
    {
     "name": "stdout",
     "output_type": "stream",
     "text": [
      "torch.Size([3, 122, 122])\n"
     ]
    },
    {
     "data": {
      "image/png": "[encoded data removed]",
      "text/plain": [
       "<Figure size 800x800 with 16 Axes>"
      ]
     },
     "metadata": {},
     "output_type": "display_data"
    }
   ],
   "source": [
    "# Visualize generated samples\n",
    "grid_size = make_grid(decoded, nrow=4, padding=2)\n",
    "# save_image(grid_size, 'generated_samples.png', normalize=False)\n",
    "\n",
    "print(grid_size.shape)\n",
    "fig, axes = plt.subplots(4, 4, figsize=(8, 8))\n",
    "for i in range(num_samples):\n",
    "    ax = axes[i // 4, i % 4]\n",
    "    ax.imshow(decoded[i].squeeze(), cmap='gray')\n",
    "    ax.axis('off')\n",
    "\n",
    "plt.show()"
   ]
  },
  {
   "cell_type": "code",
   "execution_count": null,
   "metadata": {},
   "outputs": [],
   "source": []
  }
 ],
 "metadata": {
  "kernelspec": {
   "display_name": "ciflows",
   "language": "python",
   "name": "python3"
  },
  "language_info": {
   "codemirror_mode": {
    "name": "ipython",
    "version": 3
   },
   "file_extension": ".py",
   "mimetype": "text/x-python",
   "name": "python",
   "nbconvert_exporter": "python",
   "pygments_lexer": "ipython3",
   "version": "3.11.10"
  },
  "orig_nbformat": 4
 },
 "nbformat": 4,
 "nbformat_minor": 2
}
