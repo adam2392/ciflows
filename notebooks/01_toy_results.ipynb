{
 "cells": [
  {
   "cell_type": "code",
   "execution_count": 3,
   "metadata": {},
   "outputs": [],
   "source": [
    "%load_ext autoreload\n",
    "%autoreload 2"
   ]
  },
  {
   "cell_type": "code",
   "execution_count": 4,
   "metadata": {},
   "outputs": [],
   "source": [
    "import torch\n",
    "import torch.nn as nn\n",
    "import numpy as np\n",
    "from pathlib import Path\n",
    "\n",
    "import lightning as pl\n",
    "import normflows as nf\n",
    "from normflows.flows.mixing import Invertible1x1Conv\n",
    "from normflows.flows.affine import GlowBlock\n",
    "from ciflows.glow import Injective1x1Conv, InjectiveGlowBlock, Squeeze\n",
    "from ciflows.lightning import plFlowModel\n",
    "from torchvision.utils import make_grid, save_image\n",
    "import matplotlib.pyplot as plt"
   ]
  },
  {
   "cell_type": "code",
   "execution_count": 5,
   "metadata": {},
   "outputs": [],
   "source": [
    "\n",
    "\n",
    "def get_model():\n",
    "    n_hidden = 64\n",
    "    n_mixing_layers = 2\n",
    "    n_injective_layers = 3\n",
    "    n_glow_blocks = 2\n",
    "    use_lu = True\n",
    "    gamma = 1e-2\n",
    "    activation = \"linear\"\n",
    "\n",
    "    input_shape = (1, 28, 28)\n",
    "    n_channels = input_shape[0]\n",
    "\n",
    "    n_chs = n_channels\n",
    "    flows = []\n",
    "\n",
    "    debug = True\n",
    "\n",
    "    # add the initial mixing layers\n",
    "    print(\"Beginning of mixing flows.\")\n",
    "    mixing_flows = []\n",
    "    # Add flow layers starting from the latent representation\n",
    "    for i in range(n_mixing_layers):\n",
    "        # n_chs = C * 4^(L - i)\n",
    "        n_chs = n_channels * 4 ** (n_mixing_layers - i)\n",
    "\n",
    "        if debug:\n",
    "            print(f\"On layer {n_mixing_layers - i}, n_chs = {n_chs}\")\n",
    "        for j in range(n_glow_blocks):\n",
    "            mixing_flows += [\n",
    "                GlowBlock(\n",
    "                    channels=n_chs,\n",
    "                    hidden_channels=n_hidden,\n",
    "                    use_lu=use_lu,\n",
    "                    scale=True,\n",
    "                )\n",
    "            ]\n",
    "        mixing_flows += [Squeeze()]\n",
    "\n",
    "    # reverse the mixing flows to go from X -> V.\n",
    "    mixing_flows = mixing_flows[::-1]\n",
    "    i = 1\n",
    "    for flow in mixing_flows:\n",
    "        if hasattr(flow, \"n_channels\"):\n",
    "            print(f\"On layer {i}, n_chs = {flow.n_channels}\")\n",
    "            i += 1\n",
    "    num_layers = i\n",
    "\n",
    "    print(\"Beginning of injective flows.\")\n",
    "    n_chs = n_channels * 4 ** (n_mixing_layers - 0)\n",
    "    debug = True\n",
    "    # add injective blocks\n",
    "    injective_flows = []\n",
    "    for i in range(n_injective_layers):\n",
    "        # Note: this is adding from V -> X\n",
    "        n_chs = n_chs // 2\n",
    "        injective_flows += [\n",
    "            InjectiveGlowBlock(\n",
    "                channels=n_chs,\n",
    "                hidden_channels=n_hidden,\n",
    "                activation=activation,\n",
    "                scale=True,\n",
    "                gamma=gamma,\n",
    "            )\n",
    "        ]\n",
    "\n",
    "        if debug:\n",
    "            print(f\"On layer {i + num_layers}, n_chs = {n_chs}\")\n",
    "        for j in range(n_glow_blocks):\n",
    "            injective_flows += [\n",
    "                GlowBlock(\n",
    "                    channels=n_chs,\n",
    "                    hidden_channels=n_hidden,\n",
    "                    use_lu=use_lu,\n",
    "                    scale=True,\n",
    "                )\n",
    "            ]\n",
    "\n",
    "    # Note: this is constructed as X -> V, so we need to reverse the flows\n",
    "    # to adhere to the normflows convention of V -> X\n",
    "    flows = mixing_flows\n",
    "    flows.extend(injective_flows)\n",
    "    flows = flows[::-1]\n",
    "\n",
    "    print(\"n_channels: \", n_chs)\n",
    "    q0 = nf.distributions.DiagGaussian((n_chs, 7, 7))\n",
    "\n",
    "    model = nf.NormalizingFlow(q0=q0, flows=flows)\n",
    "\n",
    "    pytorch_total_params = sum(p.numel() for p in model.parameters() if p.requires_grad)\n",
    "    print(pytorch_total_params)\n",
    "\n",
    "    return model\n",
    "\n"
   ]
  },
  {
   "cell_type": "code",
   "execution_count": 10,
   "metadata": {},
   "outputs": [
    {
     "name": "stderr",
     "output_type": "stream",
     "text": [
      "/Users/adam2392/miniforge3/envs/ciflows/lib/python3.11/site-packages/lightning/pytorch/utilities/parsing.py:208: Attribute 'model' is an instance of `nn.Module` and is already saved during checkpointing. It is recommended to ignore them using `self.save_hyperparameters(ignore=['model'])`.\n"
     ]
    }
   ],
   "source": [
    "# reload the model from checkpoint\n",
    "root = Path('/Users/adam2392/pytorch_data/ciflows/')\n",
    "\n",
    "model_dir = root / 'check_glowflow_mnist_v1'\n",
    "\n",
    "epoch=99\n",
    "step=43000\n",
    "model_fname = model_dir / f'epoch={epoch}-step={step}.ckpt'\n",
    "\n",
    "model = plFlowModel.load_from_checkpoint(model_fname)"
   ]
  },
  {
   "cell_type": "code",
   "execution_count": 11,
   "metadata": {},
   "outputs": [
    {
     "name": "stdout",
     "output_type": "stream",
     "text": [
      "torch.Size([3, 122, 122])\n"
     ]
    },
    {
     "data": {
      "image/png": "[encoded data removed]",
      "text/plain": [
       "<Figure size 800x800 with 16 Axes>"
      ]
     },
     "metadata": {},
     "output_type": "display_data"
    }
   ],
   "source": [
    "# Step 7: Evaluation\n",
    "# model.eval()  # Set model to evaluation mode\n",
    "# with torch.no_grad():\n",
    "#     loss = evaluate_loss(model, val_loader, device) # Compute loss\n",
    "#     avg_test_loss = loss.item()  # Accumulate test loss\n",
    "\n",
    "# print(f'Test Loss: {avg_test_loss:.4f}')\n",
    "\n",
    "# Step 8: Generate Samples\n",
    "num_samples = 16\n",
    "model.eval()\n",
    "model = model.to(torch.device('cpu'))\n",
    "with torch.no_grad():\n",
    "    samples, _ = model.sample(num_samples)  # Generate samples\n",
    "    samples = samples.view(-1, 1, 28, 28).cpu()  # Reshape for plotting\n",
    "\n",
    "# Visualize generated samples\n",
    "\n",
    "# Visualize generated samples\n",
    "grid_size = make_grid(samples, nrow=4, padding=2)\n",
    "save_image(grid_size, 'generated_samples.png', normalize=True)\n",
    "\n",
    "print(grid_size.shape)\n",
    "fig, axes = plt.subplots(4, 4, figsize=(8, 8))\n",
    "for i in range(num_samples):\n",
    "    ax = axes[i // 4, i % 4]\n",
    "    ax.imshow(samples[i].squeeze(), cmap='gray')\n",
    "    ax.axis('off')\n",
    "plt.show()"
   ]
  },
  {
   "cell_type": "code",
   "execution_count": null,
   "metadata": {},
   "outputs": [],
   "source": []
  }
 ],
 "metadata": {
  "kernelspec": {
   "display_name": ".embgam",
   "language": "python",
   "name": "python3"
  },
  "language_info": {
   "codemirror_mode": {
    "name": "ipython",
    "version": 3
   },
   "file_extension": ".py",
   "mimetype": "text/x-python",
   "name": "python",
   "nbconvert_exporter": "python",
   "pygments_lexer": "ipython3",
   "version": "3.11.10"
  },
  "orig_nbformat": 4,
  "vscode": {
   "interpreter": {
    "hash": "559535f78d940c882783b39501b2581b5193373045707e5f8a51d046029cfd38"
   }
  }
 },
 "nbformat": 4,
 "nbformat_minor": 2
}
