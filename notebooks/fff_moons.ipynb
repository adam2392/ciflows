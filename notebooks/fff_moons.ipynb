{
 "cells": [
  {
   "cell_type": "markdown",
   "metadata": {},
   "source": [
    "# Free-form injective flow with moons manifold"
   ]
  },
  {
   "cell_type": "code",
   "execution_count": 3,
   "metadata": {},
   "outputs": [],
   "source": [
    "import torch\n",
    "from tqdm.auto import trange\n",
    "from sklearn.datasets import make_moons\n",
    "\n",
    "from ciflows.loss import volume_change_surrogate\n",
    "\n",
    "import matplotlib.pyplot as plt"
   ]
  },
  {
   "cell_type": "code",
   "execution_count": 2,
   "metadata": {},
   "outputs": [],
   "source": [
    "dim = 2\n",
    "latent_dim = dim  # The code below also works for latent_dim < dim\n",
    "hidden_dim = 128\n",
    "n_steps = 10000\n",
    "\n",
    "noise = 0.1\n",
    "\n",
    "beta = 100\n",
    "batch_size = 1024\n",
    "device = \"mps\"\n",
    "\n",
    "\n",
    "class SkipConnection(torch.nn.Module):\n",
    "    def __init__(self, inner):\n",
    "        super().__init__()\n",
    "        self.inner = inner\n",
    "\n",
    "    def forward(self, x, *args, **kwargs):\n",
    "        return x + self.inner(x, *args, **kwargs)\n",
    "\n",
    "\n",
    "# Do not use ReLU below, makes training unstable\n",
    "encoder = SkipConnection(torch.nn.Sequential(\n",
    "    torch.nn.Linear(dim, hidden_dim), torch.nn.SiLU(),\n",
    "    torch.nn.Linear(hidden_dim, hidden_dim), torch.nn.SiLU(),\n",
    "    torch.nn.Linear(hidden_dim, hidden_dim), torch.nn.SiLU(),\n",
    "    torch.nn.Linear(hidden_dim, hidden_dim), torch.nn.SiLU(),\n",
    "    torch.nn.Linear(hidden_dim, hidden_dim), torch.nn.SiLU(),\n",
    "    torch.nn.Linear(hidden_dim, latent_dim)\n",
    ").to(device))\n",
    "decoder = SkipConnection(torch.nn.Sequential(\n",
    "    torch.nn.Linear(latent_dim, hidden_dim), torch.nn.SiLU(),\n",
    "    torch.nn.Linear(hidden_dim, hidden_dim), torch.nn.SiLU(),\n",
    "    torch.nn.Linear(hidden_dim, hidden_dim), torch.nn.SiLU(),\n",
    "    torch.nn.Linear(hidden_dim, hidden_dim), torch.nn.SiLU(),\n",
    "    torch.nn.Linear(hidden_dim, hidden_dim), torch.nn.SiLU(),\n",
    "    torch.nn.Linear(hidden_dim, dim)\n",
    ").to(device))\n",
    "\n",
    "latent = torch.distributions.Independent(\n",
    "    torch.distributions.Normal(\n",
    "        loc=torch.zeros(latent_dim, device=device),\n",
    "        scale=torch.ones(latent_dim, device=device),\n",
    "    ),\n",
    "    1\n",
    ")"
   ]
  },
  {
   "cell_type": "code",
   "execution_count": 8,
   "metadata": {},
   "outputs": [
    {
     "name": "stderr",
     "output_type": "stream",
     "text": [
      "Reconstruction: 2.7e-01, NLL: -3444.53:  41%|████      | 4107/10000 [01:03<01:32, 63.84it/s]"
     ]
    }
   ],
   "source": [
    "\n",
    "optim = torch.optim.Adam([*encoder.parameters(), *decoder.parameters()], lr=3e-4)\n",
    "\n",
    "with trange(n_steps) as pbar:\n",
    "    for step in pbar:\n",
    "        optim.zero_grad()\n",
    "        batch, _ = make_moons(batch_size, noise=noise)\n",
    "        x = torch.from_numpy(batch).float().to(device)\n",
    "        surrogate_loss, v, xhat = volume_change_surrogate(\n",
    "            x, encoder, decoder, hutchinson_samples=1\n",
    "        )\n",
    "        loss_reconstruction = ((x - xhat) ** 2).sum(-1).mean(-1)\n",
    "        loss_nll = -latent.log_prob(v) - surrogate_loss\n",
    "        loss = beta * loss_reconstruction + loss_nll\n",
    "        loss.mean().backward()\n",
    "        optim.step()\n",
    "\n",
    "        if step % 100 == 0:\n",
    "            with torch.no_grad():\n",
    "                batch, _ = make_moons(batch_size, noise=noise)\n",
    "                x = torch.from_numpy(batch).float().to(device)\n",
    "                surrogate_loss, v, xhat =  volume_change_surrogate(x, encoder, decoder, hutchinson_samples=1)\n",
    "                nll_out = -latent.log_prob(latent.sample((batch_size,))) - surrogate_loss\n",
    "                reconstruction = ((x - xhat) ** 2).sum(-1).mean(-1)\n",
    "                pbar.set_description(f\"Reconstruction: {reconstruction:.1e}, NLL: {nll_out.mean():.2f}\")"
   ]
  },
  {
   "cell_type": "code",
   "execution_count": 5,
   "metadata": {},
   "outputs": [
    {
     "name": "stdout",
     "output_type": "stream",
     "text": [
      "(1024, 2)\n"
     ]
    }
   ],
   "source": [
    "def sample(n_samples):\n",
    "    z = torch.randn(n_samples, latent_dim, device=device)\n",
    "    return decoder(z)"
   ]
  },
  {
   "cell_type": "code",
   "execution_count": null,
   "metadata": {},
   "outputs": [],
   "source": [
    "test_size = 1_000\n",
    "test_batch, _ = make_moons(test_size, noise=noise)\n",
    "\n",
    "plot_kwargs = dict(\n",
    "    s=4,\n",
    "    alpha=.7\n",
    ")\n",
    "\n",
    "plt.scatter(*test_batch.T, label=\"True\", **plot_kwargs)\n",
    "\n",
    "with torch.no_grad():\n",
    "    plt.scatter(*sample(test_size).cpu().T, label=\"FFF\", **plot_kwargs)\n",
    "plt.legend()"
   ]
  }
 ],
 "metadata": {
  "kernelspec": {
   "display_name": "ciflows",
   "language": "python",
   "name": "python3"
  },
  "language_info": {
   "codemirror_mode": {
    "name": "ipython",
    "version": 3
   },
   "file_extension": ".py",
   "mimetype": "text/x-python",
   "name": "python",
   "nbconvert_exporter": "python",
   "pygments_lexer": "ipython3",
   "version": "3.11.10"
  }
 },
 "nbformat": 4,
 "nbformat_minor": 2
}
